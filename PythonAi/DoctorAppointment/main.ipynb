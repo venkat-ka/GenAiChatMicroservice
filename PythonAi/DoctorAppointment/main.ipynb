{
 "cells": [
  {
   "cell_type": "raw",
   "id": "3d2d6d95-5349-4123-9d24-72e16fe4a17d",
   "metadata": {},
   "source": []
  },
  {
   "cell_type": "code",
   "execution_count": null,
   "id": "50323fa0-a706-42ed-a1d7-75cebeebe505",
   "metadata": {},
   "outputs": [],
   "source": []
  },
  {
   "cell_type": "code",
   "execution_count": null,
   "id": "c7021d37-1ccd-4630-8c1e-c1b66996d29b",
   "metadata": {},
   "outputs": [],
   "source": []
  },
  {
   "cell_type": "markdown",
   "id": "c59be3fa-e9d6-41a9-bd94-e115f97671c2",
   "metadata": {
    "editable": true,
    "slideshow": {
     "slide_type": ""
    },
    "tags": []
   },
   "source": []
  },
  {
   "cell_type": "code",
   "execution_count": null,
   "id": "30d5c66d-3354-4f36-a750-200b9443d2b3",
   "metadata": {
    "scrolled": true
   },
   "outputs": [
    {
     "name": "stdout",
     "output_type": "stream",
     "text": [
      "\u001b[92mAI: Hello! I can help you book an appointment with a doctor. Can you please tell me what symptoms you're experiencing?\u001b[0m\n"
     ]
    },
    {
     "name": "stdout",
     "output_type": "stream",
     "text": [
      "YOU:  teeth pain\n"
     ]
    },
    {
     "name": "stdout",
     "output_type": "stream",
     "text": [
      "\u001b[92mAI: None\u001b[0m\n",
      "\u001b[92mAI: For teeth pain, would you like to book an appointment with Dr. Tom Crusie (Dentist)? Please share your preferred date and time (except Sundays and holidays), and your availability.\u001b[0m\n"
     ]
    },
    {
     "name": "stdout",
     "output_type": "stream",
     "text": [
      "YOU:  10th June 2025 at 10AM\n"
     ]
    },
    {
     "name": "stdout",
     "output_type": "stream",
     "text": [
      "\u001b[92mAI: The selected date, 10th June 2025, is before today's allowed date. Please provide a new date after 22nd June 2025 for booking.\u001b[0m\n"
     ]
    },
    {
     "name": "stdout",
     "output_type": "stream",
     "text": [
      "YOU:  sure 23rd June 2025 10 AM\n"
     ]
    },
    {
     "name": "stdout",
     "output_type": "stream",
     "text": [
      "\u001b[92mAI: None\u001b[0m\n",
      "Tuesday to Saturday, 10 AM - 6 PM\n",
      "\u001b[92mAI: Dr. Tom Crusie (Dentist) is available on 23rd June 2025 at 10 AM. Please confirm your full name and contact number to complete the booking.\u001b[0m\n"
     ]
    },
    {
     "name": "stdout",
     "output_type": "stream",
     "text": [
      "YOU:  Venkatesh Krishnakumar\n"
     ]
    }
   ],
   "source": [
    "import import_ipynb\n",
    "import sys\n",
    "from openai import OpenAI\n",
    "#import demoA.test1 as test1\n",
    "#from DoctorAppointment import *\n",
    "import datetime\n",
    "\n",
    "from ipynb.fs.full.DoctorAppointmentGit import get_doctor_by_specialist, get_doctor_availability,get_all_doctor,tool\n",
    "\n",
    "\n",
    "import json\n",
    "\n",
    "GPT_MODEL = 'gpt-4.1'\n",
    "\n",
    "openai_api_key = \"\"\n",
    "client = OpenAI(api_key=openai_api_key)\n",
    "\n",
    "current_datetime = datetime.datetime.now()\n",
    "\n",
    "initial_prompt = {'role':\"system\",\n",
    "                  \"content\":f\"\"\"\n",
    "                                1. You are a helpful assistant designed to book appointments with doctors\n",
    "                                2. You need to take all info that is relevant to booking\n",
    "                                3. Ask about their symptoms and preferred doctors and availabity \n",
    "                                4. Give them appointment details in a reciept form \n",
    "                                5. Answer in in precise manner dont give long answers or questions\n",
    "                                6. do not send any irrelevant info cause health care is a serious topic dont generate names of deaseas and doctors by your own\n",
    "                                7. User's answer not releavent ask them to try with different words\n",
    "                                8. Consider only India IST date after \"{current_datetime}\". Do not book on Sunday and Indian holidays\n",
    "\n",
    "\"\"\"}\n",
    "\n",
    "##handle history\n",
    "messages = [initial_prompt]\n",
    "\n",
    "#color\n",
    "green = '\\033[92m'\n",
    "red = '\\033[91m'\n",
    "reset = '\\033[0m'\n",
    "\n",
    "\n",
    "global isStart\n",
    "\n",
    "isStart = True\n",
    "\n",
    "\n",
    "\n",
    "# define role \n",
    "initial_prompt = {'role':\"system\",\n",
    "                  \"content\":f\"\"\"\n",
    "                                1. You are a helpful assistant designed to book appointments with doctors\n",
    "                                2. You need to take all info that is relevant to booking\n",
    "                                3. Ask about their symptoms and preferred doctors and availabity \n",
    "                                4. Give them appointment details in a reciept form \n",
    "                                5. Answer in in precise manner dont give long answers or questions\n",
    "                                6. do not send any irrelevant info cause health care is a serious topic dont generate names of deaseas and doctors by your own\n",
    "                                7. User's answer not releavent ask them to try with different words\n",
    "                                8. Consider only India IST date after \"{current_datetime}\". Do not book on Sunday and Indian holidays\n",
    "\n",
    "\"\"\"}\n",
    "\n",
    "def handle_response(user_input):\n",
    "    global isStart;\n",
    "    isStart = True\n",
    "    global messages\n",
    "    messages.append({'role':'user', \"content\":user_input})\n",
    "    response = client.chat.completions.create(\n",
    "        model = GPT_MODEL,\n",
    "        messages = messages,\n",
    "        tools = tool,\n",
    "        tool_choice=\"auto\")\n",
    "    response_message = response.choices[0].message\n",
    "    \n",
    "    messages.append(response_message)\n",
    "    indexBye = -1\n",
    "    indexAp = -1\n",
    "    indexCm = -1\n",
    "    indexTc = -1\n",
    "    if response_message.content != None:\n",
    "       indexBye = response_message.content.find(\"Good bye!\")\n",
    "       indexCm = response_message.content.find(\"confirmed\") \n",
    "       indexTc = response_message.content.find(\"Take care\")\n",
    "       indexAp = response_message.content.find(\"Appointment booking complete\")\n",
    "    if indexBye != -1 or indexAp != -1 or indexCm != -1 or indexTc != -1:\n",
    "        isStart = False\n",
    "   \n",
    "    print(f'{green}AI: {response_message.content}{reset}')\n",
    "   \n",
    "\n",
    "# tool functionality \n",
    "    tool_calls = response_message.tool_calls\n",
    "    \n",
    "    if tool_calls:\n",
    "        for tool_call in tool_calls:\n",
    "            tool_call_id = tool_call.id \n",
    "            tool_function_name = tool_call.function.name \n",
    "            tool_query  = json.loads(tool_call.function.arguments)\n",
    "            Q = True\n",
    "            \n",
    "            if tool_function_name == 'get_all_doctor':\n",
    "                results  = get_doctor(tool_query['query'])\n",
    "            elif tool_function_name == 'get_doctor_by_specialist':\n",
    "                results = get_doctor_by_specialist(tool_query['query'])\n",
    "            elif tool_function_name == 'get_doctor_availability':\n",
    "                results = get_doctor_availability(tool_query['doctor_name'])\n",
    "            else:\n",
    "                results = get_unable_to_find(tool_query['query'])\n",
    "                #results = 'error'\n",
    "                Q = False\n",
    "                isStart = False\n",
    "            \n",
    "            \n",
    "            if Q:\n",
    "                messages.append({\n",
    "                    \"role\": \"tool\", \n",
    "                    \"tool_call_id\": tool_call_id, \n",
    "                    \"name\": tool_function_name, \n",
    "                    \"content\": results\n",
    "                })\n",
    "                \n",
    "            else: \n",
    "                print(f\"Error: function {tool_function_name} does not exist\")\n",
    "                isStart = False\n",
    "\n",
    "        model_response_with_function_call = client.chat.completions.create(\n",
    "            model=GPT_MODEL,\n",
    "            messages=messages,\n",
    "        )\n",
    "\n",
    "        messages.append(model_response_with_function_call.choices[0].message)\n",
    "        print(f\"{green}AI: {model_response_with_function_call.choices[0].message.content}{reset}\")\n",
    "\n",
    "\n",
    "\n",
    "\n",
    "\n",
    "\n",
    "#intial question\n",
    "\n",
    "print(f\"{green}AI: Hello! I can help you book an appointment with a doctor. Can you please tell me what symptoms you're experiencing?{reset}\")\n",
    "\n",
    "# the flow of converation\n",
    "\n",
    "while isStart != False:\n",
    "    user_input = input('YOU: ')\n",
    "  \n",
    "    if isStart != False:\n",
    "      handle_response(user_input)\n",
    "#    if isStart == False:\n",
    "      exit()\n"
   ]
  },
  {
   "cell_type": "code",
   "execution_count": null,
   "id": "d477f4ed-577f-4341-9efd-3f9a2a021332",
   "metadata": {},
   "outputs": [],
   "source": [
    "pip install --upgrade openai"
   ]
  }
 ],
 "metadata": {
  "kernelspec": {
   "display_name": "Python 3 (ipykernel)",
   "language": "python",
   "name": "python3"
  },
  "language_info": {
   "codemirror_mode": {
    "name": "ipython",
    "version": 3
   },
   "file_extension": ".py",
   "mimetype": "text/x-python",
   "name": "python",
   "nbconvert_exporter": "python",
   "pygments_lexer": "ipython3",
   "version": "3.12.3"
  }
 },
 "nbformat": 4,
 "nbformat_minor": 5
}
