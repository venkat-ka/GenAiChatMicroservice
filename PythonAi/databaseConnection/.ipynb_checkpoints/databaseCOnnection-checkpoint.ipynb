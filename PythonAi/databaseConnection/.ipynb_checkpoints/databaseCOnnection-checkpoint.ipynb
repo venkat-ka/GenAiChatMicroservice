{
 "cells": [
  {
   "cell_type": "code",
   "execution_count": 2,
   "id": "65c5862e-33d5-4dbb-a2db-8a7dc6b146c0",
   "metadata": {},
   "outputs": [
    {
     "ename": "AttributeError",
     "evalue": "'CMySQLCursor' object has no attribute 'commit'",
     "output_type": "error",
     "traceback": [
      "\u001b[31m---------------------------------------------------------------------------\u001b[39m",
      "\u001b[31mAttributeError\u001b[39m                            Traceback (most recent call last)",
      "\u001b[36mCell\u001b[39m\u001b[36m \u001b[39m\u001b[32mIn[2]\u001b[39m\u001b[32m, line 22\u001b[39m\n\u001b[32m     20\u001b[39m val = (\u001b[33m\"\u001b[39m\u001b[33mJohn\u001b[39m\u001b[33m\"\u001b[39m, \u001b[33m\"\u001b[39m\u001b[33mHighway 21\u001b[39m\u001b[33m\"\u001b[39m)\n\u001b[32m     21\u001b[39m cursorObject.execute(sql, val)\n\u001b[32m---> \u001b[39m\u001b[32m22\u001b[39m \u001b[43mcursorObject\u001b[49m\u001b[43m.\u001b[49m\u001b[43mcommit\u001b[49m()\n\u001b[32m     24\u001b[39m cursorObject.execute(\u001b[33m\"\u001b[39m\u001b[33mSELECT * FROM pythontb\u001b[39m\u001b[33m\"\u001b[39m)\n\u001b[32m     26\u001b[39m \u001b[38;5;28;01mfor\u001b[39;00m row \u001b[38;5;129;01min\u001b[39;00m cursorObject.fetchall():\n",
      "\u001b[31mAttributeError\u001b[39m: 'CMySQLCursor' object has no attribute 'commit'"
     ]
    }
   ],
   "source": [
    "import mysql.connector\n",
    "\n",
    "# Establish a connection\n",
    "cnx = mysql.connector.connect(\n",
    "    host=\"localhost\",\n",
    "    user=\"root\",\n",
    "    password=\"root\",\n",
    "    database=\"pythondb\"\n",
    ")\n",
    "\n",
    "# Create a cursor object\n",
    "cursorObject = cnx.cursor()\n",
    "\n",
    "\n",
    "# Execute a query\n",
    "try:\n",
    "    cursorObject.execute(\"CREATE DATABASE IF NOT EXISTS pythondb\")\n",
    "    cursorObject.execute(\"CREATE TABLE IF NOT EXISTS pythontb (name VARCHAR(255), address VARCHAR(255))\")\n",
    "    sql = \"INSERT INTO pythontb (name, address) VALUES (%s, %s)\"\n",
    "    val = (\"John\", \"Highway 21\")\n",
    "    cursorObject.execute(sql, val)\n",
    "    cnx.commit()\n",
    "    \n",
    "    cursorObject.execute(\"SELECT * FROM pythontb\")\n",
    "    \n",
    "    for row in cursorObject.fetchall():\n",
    "        print(row)\n",
    "except mysql.connector.Error as err:\n",
    "    print(f\"Error: {err}\")\n",
    "finally:\n",
    "    # Close the cursor and connection\n",
    "    if cursorObject:\n",
    "        cursorObject.close()\n",
    "    if cnx:\n",
    "        cnx.close()\n",
    "        "
   ]
  }
 ],
 "metadata": {
  "kernelspec": {
   "display_name": "Python 3 (ipykernel)",
   "language": "python",
   "name": "python3"
  },
  "language_info": {
   "codemirror_mode": {
    "name": "ipython",
    "version": 3
   },
   "file_extension": ".py",
   "mimetype": "text/x-python",
   "name": "python",
   "nbconvert_exporter": "python",
   "pygments_lexer": "ipython3",
   "version": "3.12.3"
  }
 },
 "nbformat": 4,
 "nbformat_minor": 5
}
